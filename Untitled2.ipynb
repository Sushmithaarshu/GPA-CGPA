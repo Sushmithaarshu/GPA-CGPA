{
  "nbformat": 4,
  "nbformat_minor": 0,
  "metadata": {
    "colab": {
      "name": "Untitled2.ipynb",
      "provenance": [],
      "authorship_tag": "ABX9TyNralseISua4mBMahYdZTH0",
      "include_colab_link": true
    },
    "kernelspec": {
      "name": "python3",
      "display_name": "Python 3"
    },
    "language_info": {
      "name": "python"
    }
  },
  "cells": [
    {
      "cell_type": "markdown",
      "metadata": {
        "id": "view-in-github",
        "colab_type": "text"
      },
      "source": [
        "<a href=\"https://colab.research.google.com/github/Sushmithaarshu/GPA-CGPA/blob/main/Untitled2.ipynb\" target=\"_parent\"><img src=\"https://colab.research.google.com/assets/colab-badge.svg\" alt=\"Open In Colab\"/></a>"
      ]
    },
    {
      "cell_type": "code",
      "execution_count": 94,
      "metadata": {
        "id": "m2IKz5jwgHnL"
      },
      "outputs": [],
      "source": [
        "from google.cloud import bigquery"
      ]
    },
    {
      "cell_type": "code",
      "source": [
        "client=bigquery.Client()"
      ],
      "metadata": {
        "id": "OyKEfiDegVLJ"
      },
      "execution_count": 95,
      "outputs": []
    },
    {
      "cell_type": "code",
      "source": [
        "reference=client.dataset(dataset_id =\"hacker_news\",project=\"bigquery_public_data\")#for connecting the data"
      ],
      "metadata": {
        "id": "jWJI_YK2geAS"
      },
      "execution_count": 96,
      "outputs": []
    },
    {
      "cell_type": "code",
      "source": [
        "pip install mysql-connector-python-rf"
      ],
      "metadata": {
        "colab": {
          "base_uri": "https://localhost:8080/"
        },
        "id": "sndagtwXvGMW",
        "outputId": "7fa69862-2073-4ee1-8179-db5e780f6c71"
      },
      "execution_count": 97,
      "outputs": [
        {
          "output_type": "stream",
          "name": "stdout",
          "text": [
            "Requirement already satisfied: mysql-connector-python-rf in /usr/local/lib/python3.7/dist-packages (2.2.2)\n"
          ]
        }
      ]
    },
    {
      "cell_type": "code",
      "source": [
        "import mysql.connector"
      ],
      "metadata": {
        "id": "3l5_mATFhbkp"
      },
      "execution_count": 114,
      "outputs": []
    },
    {
      "cell_type": "code",
      "source": [
        "mydb = mysql.connector.connect(\n",
        "    host = \"mysql8001.site4now.net\",\n",
        "    user = \"a86ca8_anbujoe\",\n",
        "    password = \"Qwerty@123\",\n",
        "    database = \"db_a86ca8_anbujoe\"\n",
        ")"
      ],
      "metadata": {
        "id": "nssMs_y0vpSP"
      },
      "execution_count": 116,
      "outputs": []
    },
    {
      "cell_type": "code",
      "source": [
        "cursor=mydb.cursor()"
      ],
      "metadata": {
        "id": "TeQIuVNFxiLB"
      },
      "execution_count": 106,
      "outputs": []
    },
    {
      "cell_type": "code",
      "source": [
        "query=\"CREATE Table sush(name varchar(20) NOT NULL,rollno varchar(10) NOT NULL,dob varchar(10),fname varchar(20),number integer,bloodgroup varchar(5))\"\n"
      ],
      "metadata": {
        "id": "hcrQRv4TwpxG"
      },
      "execution_count": 107,
      "outputs": []
    },
    {
      "cell_type": "code",
      "source": [
        "cursor.execute(query)"
      ],
      "metadata": {
        "id": "pR2PjGZGzklE"
      },
      "execution_count": 108,
      "outputs": []
    },
    {
      "cell_type": "code",
      "source": [
        "for i in cursor:\n",
        "      print(i)"
      ],
      "metadata": {
        "id": "G7zSTR-62oR-"
      },
      "execution_count": 109,
      "outputs": []
    },
    {
      "cell_type": "code",
      "source": [
        "query=\"show tables\""
      ],
      "metadata": {
        "id": "kZtwj-Rd6-7L"
      },
      "execution_count": 110,
      "outputs": []
    },
    {
      "cell_type": "code",
      "source": [
        "import pandas as pd\n"
      ],
      "metadata": {
        "id": "po5l3IFM7VIj"
      },
      "execution_count": 111,
      "outputs": []
    },
    {
      "cell_type": "code",
      "source": [
        "query=\"INSERT INTO sush(name,rollno)values(sushmi,ECC1934)\""
      ],
      "metadata": {
        "id": "O7e3ydHV9_Ua"
      },
      "execution_count": 112,
      "outputs": []
    },
    {
      "cell_type": "code",
      "source": [
        "df=pd.read_sql(\"SELECT * FROM sush\",mydb)"
      ],
      "metadata": {
        "id": "w2cMtgrF9sCo"
      },
      "execution_count": 117,
      "outputs": []
    }
  ]
}